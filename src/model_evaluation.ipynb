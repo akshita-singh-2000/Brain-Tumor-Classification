{
 "cells": [
  {
   "cell_type": "code",
   "execution_count": null,
   "metadata": {},
   "outputs": [],
   "source": [
    "# Importing necessary libraries for evaluation\n",
    "from sklearn.metrics import classification_report, confusion_matrix\n",
    "\n",
    "# Evaluating the model on testing dataset\n",
    "model.evaluate(testing_gen, verbose=1)\n",
    "\n",
    "# Getting predictions for all images in the test dataset\n",
    "pred = model.predict(testing_gen, verbose=1)\n",
    "predictions = np.argmax(pred, axis=1)\n",
    "\n",
    "# Labels of testing dataset\n",
    "y_true = testing_gen.labels\n",
    "\n",
    "# Getting classification report\n",
    "class_report = classification_report(y_true, predictions, target_names=classes)\n",
    "print(\"Classification Report:\\n\", class_report)\n",
    "\n",
    "# Confusion matrix\n",
    "conf_matrix = confusion_matrix(y_true, predictions)\n",
    "plt.figure(figsize=(20, 20))\n",
    "sns.heatmap(conf_matrix, annot=True, fmt='d', cmap='viridis', xticklabels=classes, yticklabels=classes)\n",
    "plt.title('Confusion Matrix', weight=\"bold\")\n",
    "plt.xlabel('Predicted Labels')\n",
    "plt.ylabel('True Labels')\n",
    "plt.show()\n"
   ]
  }
 ],
 "metadata": {
  "language_info": {
   "name": "python"
  }
 },
 "nbformat": 4,
 "nbformat_minor": 2
}
